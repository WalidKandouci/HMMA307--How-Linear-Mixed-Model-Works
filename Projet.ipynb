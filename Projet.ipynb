{
 "cells": [
  {
   "cell_type": "code",
   "execution_count": null,
   "metadata": {},
   "outputs": [],
   "source": [
    "%matplotlib inline\n",
    "\n",
    "import numpy as np\n",
    "import pandas as pd\n",
    "import statsmodels.api as sm\n",
    "import statsmodels.formula.api as smf\n",
    "from statsmodels.tools.sm_exceptions import ConvergenceWarning\n",
    "import matplotlib.pyplot as plt\n",
    "from math import sqrt\n",
    "import seaborn as sns\n",
    "sns.set_palette(\"colorblind\")"
   ]
  },
  {
   "cell_type": "code",
   "execution_count": null,
   "metadata": {},
   "outputs": [],
   "source": [
    "data = pd.read_csv(\"C:\\\\Users\\Walid\\Documents\\sleepstudy.csv\")\n",
    "data.index = data[data.columns[0]]\n",
    "data = data[data.columns[1:4]]"
   ]
  },
  {
   "cell_type": "code",
   "execution_count": null,
   "metadata": {},
   "outputs": [],
   "source": [
    "data.head(5)"
   ]
  },
  {
   "cell_type": "code",
   "execution_count": null,
   "metadata": {},
   "outputs": [],
   "source": [
    "sns.violinplot(x=\"Days\", y='Reaction', data=data)\n",
    "plt.savefig(\"figure.pdf\") "
   ]
  },
  {
   "cell_type": "code",
   "execution_count": null,
   "metadata": {},
   "outputs": [],
   "source": [
    "sns.violinplot(x=\"Days\", y='Subject', data=data)\n",
    "plt.savefig(\"figure2.pdf\") "
   ]
  },
  {
   "cell_type": "code",
   "execution_count": null,
   "metadata": {},
   "outputs": [],
   "source": [
    "# plot the distribution of Reaction\n",
    "sns.distplot(data.Reaction)\n",
    "plt.savefig(\"figure3.pdf\")\n",
    "plt.show()"
   ]
  },
  {
   "cell_type": "code",
   "execution_count": null,
   "metadata": {},
   "outputs": [],
   "source": [
    "# plot the distribution of the days\n",
    "sns.distplot(data.Days, kde=False)\n",
    "plt.savefig(\"figure4.pdf\") \n",
    "plt.show()"
   ]
  },
  {
   "cell_type": "code",
   "execution_count": null,
   "metadata": {},
   "outputs": [],
   "source": [
    "sns.lmplot(x = \"Days\", y = \"Reaction\", data = data)\n",
    "plt.savefig(\"figure5.pdf\")"
   ]
  },
  {
   "cell_type": "code",
   "execution_count": null,
   "metadata": {
    "scrolled": true
   },
   "outputs": [],
   "source": [
    "# OLS\n",
    "modelOLS = smf.ols(\"Reaction ~ Days\", data, groups=data[\"Subject\"])\n",
    "resultOLS = modelOLS.fit()\n",
    "print(resultOLS.summary())"
   ]
  },
  {
   "cell_type": "code",
   "execution_count": null,
   "metadata": {},
   "outputs": [],
   "source": [
    "# GLM\n",
    "modelGLM = smf.glm(\"Reaction ~ Days\", data, groups=data[\"Subject\"])\n",
    "resultGLM = modelGLM.fit()\n",
    "print(resultGLM.summary())"
   ]
  },
  {
   "cell_type": "code",
   "execution_count": null,
   "metadata": {
    "scrolled": true
   },
   "outputs": [],
   "source": [
    "# LMM\n",
    "modelLMM = smf.mixedlm(\"Reaction ~ Days\", data, groups=data[\"Subject\"])\n",
    "resultLMM = modelLMM.fit()\n",
    "print(resultLMM.summary())"
   ]
  },
  {
   "cell_type": "code",
   "execution_count": null,
   "metadata": {},
   "outputs": [],
   "source": [
    "y = data.Reaction\n",
    "y_predict_LMM = resultLMM.fittedvalues\n",
    "RMSE_LMM = sqrt(((y-y_predict_LMM)**2).values.mean())\n",
    "results = pd.DataFrame()\n",
    "results[\"Method\"] = [\"LMM\"]\n",
    "results[\"RMSE\"] = RMSE_LMM\n",
    "\n",
    "y_predict_GLM = resultGLM.fittedvalues\n",
    "RMSE_GLM = sqrt(((y-y_predict_GLM)**2).values.mean())\n",
    "results.loc[1] = [\"GLM\",RMSE_GLM]\n",
    "\n",
    "y_predict_OLS = resultOLS.fittedvalues\n",
    "RMSE_OLS = sqrt(((y-y_predict_OLS)**2).values.mean())\n",
    "results.loc[2] = [\"OLS\",RMSE_OLS]\n",
    "\n",
    "results"
   ]
  },
  {
   "cell_type": "code",
   "execution_count": null,
   "metadata": {},
   "outputs": [],
   "source": [
    "performance = pd.DataFrame()\n",
    "performance[\"residuals\"] = resultLMM.resid.values\n",
    "performance[\"Days\"] = data.Days\n",
    "performance[\"predicted\"] = resultLMM.fittedvalues\n",
    "\n",
    "sns.lmplot(x = \"predicted\", y = \"residuals\", data = performance)"
   ]
  },
  {
   "cell_type": "code",
   "execution_count": null,
   "metadata": {},
   "outputs": [],
   "source": [
    "ax = sns.residplot(x = \"Days\", y = \"residuals\", data = performance, lowess=True)\n",
    "ax.set(ylabel='Observed - Prediction')\n",
    "plt.show()"
   ]
  },
  {
   "cell_type": "code",
   "execution_count": null,
   "metadata": {},
   "outputs": [],
   "source": [
    "likev = resultLMM.profile_re(0, 're', dist_low=0.1, dist_high=0.1)"
   ]
  },
  {
   "cell_type": "code",
   "execution_count": null,
   "metadata": {},
   "outputs": [],
   "source": [
    "plt.figure(figsize=(10,8))\n",
    "plt.plot(likev[:,0], 2*likev[:,1])\n",
    "plt.xlabel(\"Variance of random slope\", size=17)\n",
    "plt.ylabel(\"-2 times profile log likelihood\", size=17)"
   ]
  },
  {
   "cell_type": "code",
   "execution_count": null,
   "metadata": {},
   "outputs": [],
   "source": []
  }
 ],
 "metadata": {
  "kernelspec": {
   "display_name": "Python 3",
   "language": "python",
   "name": "python3"
  },
  "language_info": {
   "codemirror_mode": {
    "name": "ipython",
    "version": 3
   },
   "file_extension": ".py",
   "mimetype": "text/x-python",
   "name": "python",
   "nbconvert_exporter": "python",
   "pygments_lexer": "ipython3",
   "version": "3.7.6"
  }
 },
 "nbformat": 4,
 "nbformat_minor": 4
}
